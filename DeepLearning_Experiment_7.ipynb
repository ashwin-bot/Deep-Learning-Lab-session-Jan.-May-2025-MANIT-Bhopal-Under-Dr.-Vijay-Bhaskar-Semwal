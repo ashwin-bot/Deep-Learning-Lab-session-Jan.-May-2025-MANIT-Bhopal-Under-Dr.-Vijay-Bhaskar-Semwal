{
 "cells": [
  {
   "cell_type": "markdown",
   "metadata": {
    "id": "2lJLt7p9J-OP"
   },
   "source": [
    "# **Experiment No : 7**"
   ]
  },
  {
   "cell_type": "markdown",
   "metadata": {
    "id": "StV5D4WHIi89"
   },
   "source": [
    "**Name : Ashwin Kumar Ruke .   Scholar No : 24215011118**"
   ]
  },
  {
   "cell_type": "markdown",
   "metadata": {
    "id": "PWVI17jrqY2s"
   },
   "source": [
    "**Q1. Image Classification Using CIFAR-10 Dataset using simple deep network with 4 hidden layers and 3 dropout layer also apply pruning and quantization to reduce size and report size of model.**"
   ]
  },
  {
   "cell_type": "code",
   "execution_count": 1,
   "metadata": {
    "colab": {
     "base_uri": "https://localhost:8080/"
    },
    "id": "dbFr9NAzpv_3",
    "outputId": "d61cdee4-453d-4fd8-fa9e-97fa29e8626c"
   },
   "outputs": [
    {
     "name": "stderr",
     "output_type": "stream",
     "text": [
      "100%|██████████| 170M/170M [00:14<00:00, 12.1MB/s]\n"
     ]
    },
    {
     "name": "stdout",
     "output_type": "stream",
     "text": [
      "Epoch [1/10], Loss: 2.0847\n",
      "Epoch [2/10], Loss: 1.5015\n",
      "Epoch [3/10], Loss: 1.5270\n",
      "Epoch [4/10], Loss: 1.3566\n",
      "Epoch [5/10], Loss: 1.1015\n",
      "Epoch [6/10], Loss: 1.1746\n",
      "Epoch [7/10], Loss: 1.1464\n",
      "Epoch [8/10], Loss: 0.9774\n",
      "Epoch [9/10], Loss: 0.7430\n",
      "Epoch [10/10], Loss: 1.1634\n",
      "Original model size: 6826.01 KB\n",
      "Pruned model size: 6825.42 KB\n",
      "Quantized model size: 1715.32 KB\n"
     ]
    }
   ],
   "source": [
    "import torch\n",
    "import torch.nn as nn\n",
    "import torch.optim as optim\n",
    "import torch.nn.utils.prune as prune\n",
    "import torch.quantization\n",
    "import os\n",
    "from torchvision import datasets, transforms\n",
    "from torch.utils.data import DataLoader\n",
    "\n",
    "\n",
    "transform = transforms.Compose([\n",
    "    transforms.ToTensor(),\n",
    "    transforms.Normalize((0.5, 0.5, 0.5), (0.5, 0.5, 0.5))\n",
    "])\n",
    "\n",
    "\n",
    "train_dataset = datasets.CIFAR10(root='./data', train=True, transform=transform, download=True)\n",
    "test_dataset = datasets.CIFAR10(root='./data', train=False, transform=transform, download=True)\n",
    "\n",
    "train_loader = DataLoader(train_dataset, batch_size=64, shuffle=True)\n",
    "test_loader = DataLoader(test_dataset, batch_size=64, shuffle=False)\n",
    "\n",
    "\n",
    "class SimpleNN(nn.Module):\n",
    "    def __init__(self):  # Fixed __init__\n",
    "        super(SimpleNN, self).__init__()\n",
    "        self.flatten = nn.Flatten()\n",
    "        self.fc1 = nn.Linear(32 * 32 * 3, 512)\n",
    "        self.dropout1 = nn.Dropout(0.2)\n",
    "        self.fc2 = nn.Linear(512, 256)\n",
    "        self.dropout2 = nn.Dropout(0.2)\n",
    "        self.fc3 = nn.Linear(256, 128)\n",
    "        self.fc4 = nn.Linear(128, 64)\n",
    "        self.dropout3 = nn.Dropout(0.2)\n",
    "        self.fc5 = nn.Linear(64, 10)\n",
    "\n",
    "    def forward(self, x):\n",
    "        x = self.flatten(x)\n",
    "        x = torch.relu(self.fc1(x))\n",
    "        x = self.dropout1(x)\n",
    "        x = torch.relu(self.fc2(x))\n",
    "        x = self.dropout2(x)\n",
    "        x = torch.relu(self.fc3(x))\n",
    "        x = torch.relu(self.fc4(x))\n",
    "        x = self.dropout3(x)\n",
    "        x = self.fc5(x)\n",
    "        return x\n",
    "\n",
    "\n",
    "device = torch.device(\"cuda\" if torch.cuda.is_available() else \"cpu\")\n",
    "model = SimpleNN().to(device)\n",
    "\n",
    "\n",
    "assert len(list(model.parameters())) > 0, \"Model parameters are empty!\"\n",
    "\n",
    "\n",
    "criterion = nn.CrossEntropyLoss()\n",
    "optimizer = optim.Adam(model.parameters(), lr=0.001)\n",
    "\n",
    "\n",
    "def train_model(model, epochs=10):\n",
    "    model.train()\n",
    "    for epoch in range(epochs):\n",
    "        for images, labels in train_loader:\n",
    "            images, labels = images.to(device), labels.to(device)  # Move data to GPU if available\n",
    "            optimizer.zero_grad()\n",
    "            outputs = model(images)\n",
    "            loss = criterion(outputs, labels)\n",
    "            loss.backward()\n",
    "            optimizer.step()\n",
    "        print(f'Epoch [{epoch+1}/{epochs}], Loss: {loss.item():.4f}')\n",
    "\n",
    "\n",
    "train_model(model, epochs=10)\n",
    "\n",
    "\n",
    "for name, module in model.named_modules():\n",
    "    if isinstance(module, nn.Linear):\n",
    "        prune.l1_unstructured(module, name='weight', amount=0.4)\n",
    "\n",
    "\n",
    "for name, module in model.named_modules():\n",
    "    if isinstance(module, nn.Linear):\n",
    "        prune.remove(module, 'weight')\n",
    "\n",
    "\n",
    "model_quantized = torch.quantization.quantize_dynamic(model, {nn.Linear}, dtype=torch.qint8)\n",
    "\n",
    "\n",
    "def get_model_size(model, filename=\"model.pth\"):\n",
    "    torch.save(model.state_dict(), filename)\n",
    "    size = os.path.getsize(filename) / 1024  # Size in KB\n",
    "    os.remove(filename)  # Clean up\n",
    "    return size\n",
    "\n",
    "original_size = get_model_size(model, \"original.pth\")\n",
    "pruned_size = get_model_size(model, \"pruned.pth\")\n",
    "quantized_size = get_model_size(model_quantized, \"quantized.pth\")\n",
    "\n",
    "print(f'Original model size: {original_size:.2f} KB')\n",
    "print(f'Pruned model size: {pruned_size:.2f} KB')\n",
    "print(f'Quantized model size: {quantized_size:.2f} KB')\n"
   ]
  },
  {
   "cell_type": "code",
   "execution_count": 2,
   "metadata": {
    "colab": {
     "base_uri": "https://localhost:8080/",
     "height": 464
    },
    "id": "0scG_V9zHr4n",
    "outputId": "df1c7490-d057-4242-8be8-ae81945a6193"
   },
   "outputs": [
    {
     "name": "stdout",
     "output_type": "stream",
     "text": [
      "Predicted class: 3\n",
      "True class: 3\n"
     ]
    },
    {
     "data": {
      "image/png": "[encoded data removed]",
      "text/plain": [
       "<Figure size 640x480 with 1 Axes>"
      ]
     },
     "metadata": {},
     "output_type": "display_data"
    }
   ],
   "source": [
    "import torch\n",
    "import matplotlib.pyplot as plt\n",
    "import numpy as np\n",
    "\n",
    "\n",
    "device = torch.device(\"cuda\" if torch.cuda.is_available() else \"cpu\")\n",
    "model.eval()  # Set the model to evaluation mode\n",
    "\n",
    "\n",
    "images, labels = next(iter(test_loader))\n",
    "images, labels = images.to(device), labels.to(device)\n",
    "\n",
    "\n",
    "single_image = images[0].unsqueeze(0)\n",
    "true_label = labels[0].item()\n",
    "\n",
    "# Predict the class using the model\n",
    "with torch.no_grad():\n",
    "    output = model(single_image)\n",
    "    predicted_class = torch.argmax(output, dim=1).item()\n",
    "\n",
    "print(f\"Predicted class: {predicted_class}\")\n",
    "print(f\"True class: {true_label}\")\n",
    "\n",
    "\n",
    "image_np = single_image.squeeze().cpu().numpy()\n",
    "image_np = np.transpose(image_np, (1, 2, 0))\n",
    "image_np = image_np * 0.5 + 0.5\n",
    "\n",
    "plt.imshow(image_np)\n",
    "plt.title(f\"Predicted: {predicted_class} | True: {true_label}\")\n",
    "plt.axis('off')\n",
    "plt.show()"
   ]
  }
 ],
 "metadata": {
  "accelerator": "GPU",
  "colab": {
   "gpuType": "T4",
   "provenance": []
  },
  "kernelspec": {
   "display_name": "Python 3 (ipykernel)",
   "language": "python",
   "name": "python3"
  },
  "language_info": {
   "codemirror_mode": {
    "name": "ipython",
    "version": 3
   },
   "file_extension": ".py",
   "mimetype": "text/x-python",
   "name": "python",
   "nbconvert_exporter": "python",
   "pygments_lexer": "ipython3",
   "version": "3.12.10"
  }
 },
 "nbformat": 4,
 "nbformat_minor": 4
}
